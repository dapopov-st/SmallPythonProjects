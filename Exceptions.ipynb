{
 "cells": [
  {
   "cell_type": "markdown",
   "metadata": {},
   "source": [
    "### Exception Custom Classes with Logging Description and Solution"
   ]
  },
  {
   "cell_type": "markdown",
   "metadata": {},
   "source": [
    "Suppose we have a Widget online sales application and we are writing the backend for it. We want a base `WidgetException` class that we will use as the base class for all our custom exceptions we raise from our Widget application."
   ]
  },
  {
   "cell_type": "markdown",
   "metadata": {},
   "source": [
    "```\n",
    "1. Supplier exceptions\n",
    "    a. Not manufactured anymore\n",
    "    b. Production delayed\n",
    "    c. Shipping delayed\n",
    "    \n",
    "2. Checkout exceptions\n",
    "    a. Inventory type exceptions\n",
    "        - out of stock\n",
    "    b. Pricing exceptions\n",
    "        - invalid coupon code\n",
    "        - cannot stack coupons\n",
    "```"
   ]
  },
  {
   "cell_type": "markdown",
   "metadata": {},
   "source": [
    "Write an exception class hierarchy to capture this. In addition, we would like to implement the following functionality:\n",
    "* implement separate internal error message and user error message\n",
    "* implement an http status code associated to each exception type (keep it simple, use a 500 (server error) error for everything except invalid coupon code, and cannot stack coupons, these can be 400 (bad request)\n",
    "* implement a logging function that can be called to log the exception details, time it occurred, etc.\n",
    "* implement a function that can be called to produce a json string containing the exception details you want to display to your user (include http status code (e.g. 400), the user error message, etc)"
   ]
  },
  {
   "cell_type": "code",
   "execution_count": 83,
   "metadata": {},
   "outputs": [],
   "source": [
    "from http import HTTPStatus\n",
    "import json\n",
    "import datetime\n",
    "from traceback import TracebackException\n",
    "import logging\n",
    "logging.basicConfig(filename='exception_logs.log', encoding='utf-8', level = logging.DEBUG)"
   ]
  },
  {
   "cell_type": "code",
   "execution_count": 105,
   "metadata": {},
   "outputs": [],
   "source": [
    "class WidgetException(Exception):\n",
    "    \"\"\"Base widget exception\"\"\"\n",
    "    internal_error_message = \"Widget API exception occurred.\"\n",
    "    user_error_message = \"We are sorry. An unexpected error occurred on our end.\"\n",
    "    http_status = HTTPStatus.INTERNAL_SERVER_ERROR\n",
    "    def __init__(self, *args, user_error_message=None):\n",
    "        if args:\n",
    "            self.internal_error_message = args[0] #args[0] passed as custom exception message\n",
    "            super().__init__(*args) \n",
    "        else:\n",
    "            super().__init__(self.internal_error_message)\n",
    "        if user_error_message is not None:\n",
    "            self.user_error_message = user_error_message\n",
    "        self.exception_time = datetime.datetime.utcnow()\n",
    "\n",
    "    def exception_logger(self):\n",
    "        \"\"\"Logging function for logging the exception details\"\"\"\n",
    "        log_message = (\n",
    "            f\"Exception type:{type(self).__name__}\"+\n",
    "            f\"\\nError message: {self.internal_error_message}\\nHttp status: {HTTPStatus.INTERNAL_SERVER_ERROR}\"+\n",
    "            f\"\\nTime: {self.exception_time}\\nArgs: {self.args}\"+\n",
    "            f'\\nTBLogger: {\"-\".join(list((TracebackException.from_exception(self)).format()))}')\n",
    "        logging.debug(log_message)\n",
    "        return log_message\n",
    "        \n",
    "        \n",
    "    def json_user_detail(self):\n",
    "        \"\"\"Returns a json string containing the exception details to display to the user\"\"\"\n",
    "        error_object = {\"Exception type\":type(self).__name__,\n",
    "                        'status':self.http_status, \n",
    "                        'message':self.user_error_message,\n",
    "                         'time': str(self.exception_time)}\n",
    "        return json.dumps(error_object)\n",
    "     \n",
    "    \n",
    "class SupplierException(WidgetException):\n",
    "    \"\"\"Base supplier exception, inherits from WidgeException and indicates \n",
    "    that the exception occurred due to supply issues\"\"\"\n",
    "    internal_error_message = \"Supplier exception occurred.\"\n",
    "    user_error_message = \"We are sorry, a supplier exception occurred\"\n",
    "\n",
    "class CheckoutException(WidgetException):\n",
    "    \"\"\"Base checkout exception, inherits from WidgeException and indicates \n",
    "    that the exception occurred due to checkout issues\"\"\"\n",
    "    internal_error_message = \"Checkout exception occurred.\"\n",
    "    user_error_message = \"We are sorry, a checkout exception occurred\"\n",
    "\n",
    "# Supplier Exceptions\n",
    "class NotManufacturedAnymoreException(SupplierException):\n",
    "    \"\"\"A SupplierException indicating that the item is no longer manufactured\"\"\"\n",
    "    internal_error_message = \"Manufacturing ceased exception occurred.\"\n",
    "    user_error_message = \"We are sorry, this product is no longer being made\"\n",
    "\n",
    "class ProductionDelayedException(SupplierException):\n",
    "    \"\"\"A SupplierException indicating that production is delayed\"\"\"\n",
    "    internal_error_message = \"Production delay exception occurred.\"\n",
    "    user_error_message = \"We are sorry, production was delayed\"\n",
    "\n",
    "\n",
    "class ShippingDelayedException(SupplierException):\n",
    "    \"\"\"A SupplierException indicating that shipping is delayed\"\"\"\n",
    "    internal_error_message = \"Shipping delay exception occurred.\"\n",
    "    user_error_message = \"We are sorry, shipping was delayed\"\n",
    "\n",
    "\n",
    "class OutOfStockException(CheckoutException):\n",
    "    \"\"\"A CheckoutException indicating that the item is out of stock\"\"\"\n",
    "    internal_error_message = \"Out of stock exception occurred.\"\n",
    "    user_error_message = \"We are sorry, item is out of stock\"\n",
    "\n",
    "### Pricing Exceptions\n",
    "class PricingException(CheckoutException):\n",
    "    http_status = HTTPStatus.BAD_REQUEST\n",
    "    \"\"\"Base pricing exception, inherits from CheckoutException and indicates \n",
    "    that the exception occurred due to pricing issues\"\"\"\n",
    "    internal_error_message = \"Base pricing exception occurred.\"\n",
    "    user_error_message = \"We are sorry, there was a problem with pricing\"\n",
    "\n",
    "\n",
    "class InvalidCouponCodeException(PricingException):\n",
    "    \"\"\"A PricingException indicating that the coupon code is invalid\"\"\"\n",
    "    internal_error_message = \"Invalid coupon code exception occurred.\"\n",
    "    user_error_message = \"We are sorry, this coupon code is invalid\"\n",
    "\n",
    "class CannotStackCouponsException(PricingException):\n",
    "    \"\"\"A PricingException indicating that coupons cannot be stacked\"\"\"\n",
    "    internal_error_message = \"Coupon stack exception occurred.\"\n",
    "    user_error_message = \"We are sorry, coupons cannot be stacked\"\n"
   ]
  },
  {
   "cell_type": "code",
   "execution_count": 107,
   "metadata": {},
   "outputs": [
    {
     "name": "stdout",
     "output_type": "stream",
     "text": [
      "Exception type:WidgetException\n",
      "Error message: hello exception\n",
      "Http status: 500\n",
      "Time: 2022-05-10 13:40:13.479627\n",
      "Args: ('hello exception',)\n",
      "TBLogger: WidgetException: hello exception\n",
      "\n"
     ]
    }
   ],
   "source": [
    "ex = WidgetException(\"hello exception\")\n",
    "print(ex.exception_logger())"
   ]
  },
  {
   "cell_type": "code",
   "execution_count": 109,
   "metadata": {},
   "outputs": [
    {
     "name": "stdout",
     "output_type": "stream",
     "text": [
      "Exception type:WidgetException\n",
      "Error message: hello exception\n",
      "Http status: 500\n",
      "Time: 2022-05-10 13:40:13.479627\n",
      "Args: ('hello exception',)\n",
      "TBLogger: WidgetException: hello exception\n",
      "\n"
     ]
    }
   ],
   "source": [
    "#checking if the time works correctly (remains as exception creation time)\n",
    "print(ex.exception_logger()) "
   ]
  },
  {
   "cell_type": "code",
   "execution_count": 90,
   "metadata": {},
   "outputs": [
    {
     "name": "stdout",
     "output_type": "stream",
     "text": [
      "Error message: hello exception\n",
      "Http status: 500\n",
      "Time: 2022-05-10 12:46:38.703825\n",
      "Args: ('hello exception',)\n",
      "TBLogger: Traceback (most recent call last):\n",
      "-  File \"<ipython-input-90-687a5dab50ec>\", line 2, in <module>\n",
      "    raise WidgetException(\"hello exception\")\n",
      "-WidgetException: hello exception\n",
      "\n"
     ]
    }
   ],
   "source": [
    "#Basic check of exception_logger traceback\n",
    "try:\n",
    "    raise WidgetException(\"hello exception\")\n",
    "except WidgetException as ex:\n",
    "    print(ex.exception_logger())"
   ]
  },
  {
   "cell_type": "code",
   "execution_count": 91,
   "metadata": {},
   "outputs": [
    {
     "name": "stdout",
     "output_type": "stream",
     "text": [
      "HTTPStatus.INTERNAL_SERVER_ERROR\n"
     ]
    }
   ],
   "source": [
    "#Checking if can access http_status from subclass\n",
    "ex = OutOfStockException() \n",
    "ex.json_user_detail()\n",
    "print(ex.http_status)"
   ]
  },
  {
   "cell_type": "code",
   "execution_count": 92,
   "metadata": {},
   "outputs": [
    {
     "name": "stdout",
     "output_type": "stream",
     "text": [
      "{\"status\": 400, \"message\": \"We are sorry, coupons cannot be stacked\"}\n",
      "HTTPStatus.BAD_REQUEST\n"
     ]
    },
    {
     "data": {
      "text/plain": [
       "\"Error message: Coupon stack exception occurred.\\nHttp status: 500\\nTime: 2022-05-10 12:47:26.621761\\nArgs: ('Coupon stack exception occurred.',)\\nTBLogger: CannotStackCouponsException: Coupon stack exception occurred.\\n\""
      ]
     },
     "execution_count": 92,
     "metadata": {},
     "output_type": "execute_result"
    }
   ],
   "source": [
    "#Checking if methods work correctly in subclasses\n",
    "ex = CannotStackCouponsException()\n",
    "print(ex.json_user_detail())\n",
    "print(ex.http_status)\n",
    "ex.exception_logger()"
   ]
  },
  {
   "cell_type": "code",
   "execution_count": 106,
   "metadata": {},
   "outputs": [
    {
     "data": {
      "text/plain": [
       "'{\"Exception type\": \"InvalidCouponCodeException\", \"status\": 400, \"message\": \"We are sorry, this coupon code is invalid\", \"time\": \"2022-05-10 13:37:31.939060\"}'"
      ]
     },
     "execution_count": 106,
     "metadata": {},
     "output_type": "execute_result"
    }
   ],
   "source": [
    "#Checking json_user_detail\n",
    "ex = InvalidCouponCodeException(\"Fast one pulled by the user\",\"Invalid coupon, dear user\")\n",
    "ex.exception_logger()\n",
    "ex.json_user_detail()"
   ]
  }
 ],
 "metadata": {
  "interpreter": {
   "hash": "949777d72b0d2535278d3dc13498b2535136f6dfe0678499012e853ee9abcab1"
  },
  "kernelspec": {
   "display_name": "Python 3.9.12 64-bit",
   "language": "python",
   "name": "python3"
  },
  "language_info": {
   "codemirror_mode": {
    "name": "ipython",
    "version": 3
   },
   "file_extension": ".py",
   "mimetype": "text/x-python",
   "name": "python",
   "nbconvert_exporter": "python",
   "pygments_lexer": "ipython3",
   "version": "3.9.12"
  },
  "orig_nbformat": 4
 },
 "nbformat": 4,
 "nbformat_minor": 2
}
