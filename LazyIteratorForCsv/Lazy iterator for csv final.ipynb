{
 "cells": [
  {
   "cell_type": "code",
   "execution_count": 44,
   "metadata": {},
   "outputs": [],
   "source": [
    "import datetime\n",
    "from collections import namedtuple\n",
    "from itertools import islice"
   ]
  },
  {
   "cell_type": "code",
   "execution_count": 45,
   "metadata": {},
   "outputs": [],
   "source": [
    "# Project with data validation\n",
    "def validate_int(data, default = 'NAN'):\n",
    "    try:\n",
    "        data = int(data)\n",
    "    except ValueError as er:\n",
    "        data = default\n",
    "        print(f\"Input is not of the format that can be converted to integer, returning default {default}\")\n",
    "    finally:\n",
    "        return data\n",
    "\n",
    "def validate_str(data, default=None):\n",
    "    try:\n",
    "        data = str(data).strip()\n",
    "        if len(data) == 0:\n",
    "            data = default\n",
    "    except:\n",
    "        data = default\n",
    "    finally:\n",
    "        return data\n",
    "\n",
    "def validate_dt(data, format = '%m/%d/%Y',default=None):\n",
    "    try:\n",
    "        data = datetime.datetime.strptime(data,format)\n",
    "    except ValueError:\n",
    "        print(f\"Input is not of the format that can be converted to datetime, returning default {default}\")\n",
    "        data = default\n",
    "    finally:\n",
    "        return data"
   ]
  },
  {
   "cell_type": "code",
   "execution_count": 46,
   "metadata": {},
   "outputs": [],
   "source": [
    "data_types = 'INT','STRING','STRING','STRING','DATETIME','INT','STRING','STRING','STRING'\n",
    "def type_caster(val,type_):\n",
    "    if type_ == 'INT':\n",
    "        return validate_int(val)\n",
    "    elif type_ == 'DATETIME':\n",
    "        return validate_dt(val,'%m/%d/%Y')\n",
    "    return validate_str(val) # don't change if it's a string already"
   ]
  },
  {
   "cell_type": "code",
   "execution_count": 74,
   "metadata": {},
   "outputs": [
    {
     "name": "stdout",
     "output_type": "stream",
     "text": [
      "Cars(summons_number=4006462396, plate_id='22834JK', registration_state='NY', plate_type='COM', issue_date=datetime.datetime(2016, 9, 30, 0, 0), violation_code=5, vehicle_body_type='VAN', vehicle_make='CHEVR', violation_description='BUS LANE VIOLATION')\n",
      "Cars(summons_number=4006265037, plate_id='FZX9232', registration_state='NY', plate_type='PAS', issue_date=datetime.datetime(2016, 8, 23, 0, 0), violation_code=5, vehicle_body_type='SUBN', vehicle_make='FORD', violation_description='BUS LANE VIOLATION')\n",
      "Cars(summons_number=4007156700, plate_id='92163MG', registration_state='NY', plate_type='COM', issue_date=datetime.datetime(2017, 4, 13, 0, 0), violation_code=5, vehicle_body_type='VAN', vehicle_make='FRUEH', violation_description='BUS LANE VIOLATION')\n",
      "Cars(summons_number=4006943052, plate_id='2AE3984', registration_state='MD', plate_type='PAS', issue_date=datetime.datetime(2017, 2, 1, 0, 0), violation_code=5, vehicle_body_type='SW', vehicle_make='LINCO', violation_description='BUS LANE VIOLATION')\n",
      "Cars(summons_number=4007124590, plate_id='T715907C', registration_state='NY', plate_type='OMT', issue_date=datetime.datetime(2017, 4, 3, 0, 0), violation_code=5, vehicle_body_type='SUBN', vehicle_make='TOYOT', violation_description='BUS LANE VIOLATION')\n",
      "Cars(summons_number=5094070400, plate_id='DYP8042', registration_state='NY', plate_type='PAS', issue_date=datetime.datetime(2016, 10, 26, 0, 0), violation_code=7, vehicle_body_type='SUBN', vehicle_make='CHEVR', violation_description='FAILURE TO STOP AT RED LIGHT')\n",
      "Cars(summons_number=5093319363, plate_id='GGT8868', registration_state='NY', plate_type='PAS', issue_date=datetime.datetime(2016, 9, 6, 0, 0), violation_code=7, vehicle_body_type='SUBN', vehicle_make='CHRYS', violation_description='FAILURE TO STOP AT RED LIGHT')\n",
      "Cars(summons_number=5093455337, plate_id='ENQT55', registration_state='FL', plate_type='PAS', issue_date=datetime.datetime(2016, 9, 12, 0, 0), violation_code=7, vehicle_body_type='VN', vehicle_make='DODGE', violation_description='FAILURE TO STOP AT RED LIGHT')\n",
      "Cars(summons_number=5092906534, plate_id='V84FXV', registration_state='NJ', plate_type='PAS', issue_date=datetime.datetime(2016, 8, 7, 0, 0), violation_code=7, vehicle_body_type='WAGO', vehicle_make='FIR', violation_description='FAILURE TO STOP AT RED LIGHT')\n",
      "Cars(summons_number=5092733548, plate_id='EVX4041', registration_state='NY', plate_type='PAS', issue_date=datetime.datetime(2016, 7, 26, 0, 0), violation_code=7, vehicle_body_type='SUBN', vehicle_make='FORD', violation_description='FAILURE TO STOP AT RED LIGHT')\n"
     ]
    }
   ],
   "source": [
    "with open('nyc_parking_tickets_extract.csv') as f:\n",
    "    file_iter = iter(f)\n",
    "    # Strip \\n from string next(file_iter) and split the result on ',' \n",
    "    headers = next(file_iter).strip('\\n').split(',') \n",
    "    # Replace \" \" by \"_\" in each element in headers in order to get propertly\n",
    "    # formatted names for namedtuple\n",
    "    headers = [elt.replace(\" \",\"_\").lower() for elt in headers]\n",
    "    # Make a namedtuple for headers\n",
    "    Cars = namedtuple('Cars',headers)\n",
    "    tickets = []\n",
    "    for r in file_iter:\n",
    "        r = next(file_iter).strip('\\n').split(',') # split as with headers\n",
    "        r = (type_caster(elt[0],elt[1]) for elt in zip(r,data_types)) #typecast each element using type_caster\n",
    "        r = Cars(*r) # pass the row to namedtuple\n",
    "        tickets.append(r) # append the result to the tickets list\n",
    "\n",
    " \n",
    "\n",
    "for ticket in islice(tickets,10):\n",
    "    print(ticket)\n"
   ]
  },
  {
   "cell_type": "code",
   "execution_count": 72,
   "metadata": {},
   "outputs": [
    {
     "name": "stdout",
     "output_type": "stream",
     "text": [
      "{'TOYOT': 54, 'FORD': 52, 'HONDA': 51, 'CHEVR': 41, 'NISSA': 34, 'FRUEH': 22, 'DODGE': 21, 'HYUND': 18, 'ME/BE': 18, 'GMC': 18, 'BMW': 15, 'LEXUS': 13, 'JEEP': 11, 'INTER': 11, 'SUBAR': 10, 'NS/OT': 9, 'LINCO': 7, 'CHRYS': 7, 'AUDI': 7, 'ACURA': 7, 'VOLVO': 6, 'INFIN': 6, 'HIN': 5, 'ISUZU': 4, 'CADIL': 4, 'VOLKS': 4, 'MITSU': 4, 'JAGUA': 3, 'MERCU': 3, 'KENWO': 3, 'KIA': 3, 'BUICK': 3, 'SATUR': 2, 'MAZDA': 2, 'SMART': 2, 'ROVER': 2, 'FIR': 1, 'WORKH': 1, 'OLDSM': 1, 'PETER': 1, 'YAMAH': 1, 'MINI': 1, 'SPRI': 1, 'PLYMO': 1, 'SCION': 1, 'PORSC': 1, 'UPS': 1, 'UD': 1, 'STAR': 1, 'SAAB': 1, 'AM/T': 1, 'HINO': 1, 'MI/F': 1}\n"
     ]
    }
   ],
   "source": [
    "from collections import defaultdict\n",
    "def violation_counts():\n",
    "    \"\"\"Returns the dictionary of sorted violation counts by make in greatest-to-lowest order\"\"\"\n",
    "    num_violations = defaultdict(int)\n",
    "    for row in tickets: # vehicle make is at index 7\n",
    "        make = row.vehicle_make\n",
    "        num_violations[make] += 1\n",
    "    #Check:\n",
    "    assert sum(num_violations.values())==500, \"Violations don't add up\"\n",
    "    #Sort the dictionary based on the values highest to lowest\n",
    "    counts = ((key, val) for key, val in num_violations.items())\n",
    "    counts_sorted = dict(sorted(counts, key=lambda el:el[1], reverse=True))\n",
    "    #Keep only keys that are not None\n",
    "    counts_sorted_not_null = {key:val for key, val in counts_sorted.items() if key is not None}\n",
    "    return counts_sorted_not_null\n",
    "\n",
    "unsorted_counts = violation_counts()\n",
    "print(unsorted_counts)\n"
   ]
  }
 ],
 "metadata": {
  "interpreter": {
   "hash": "97aab2cee771b1ce1b2f62ab55a43b69a4e5355aa8a20aea688f28ddb7a1e4ea"
  },
  "kernelspec": {
   "display_name": "Python 3.9.10 ('base')",
   "language": "python",
   "name": "python3"
  },
  "language_info": {
   "codemirror_mode": {
    "name": "ipython",
    "version": 3
   },
   "file_extension": ".py",
   "mimetype": "text/x-python",
   "name": "python",
   "nbconvert_exporter": "python",
   "pygments_lexer": "ipython3",
   "version": "3.9.10"
  },
  "orig_nbformat": 4
 },
 "nbformat": 4,
 "nbformat_minor": 2
}
